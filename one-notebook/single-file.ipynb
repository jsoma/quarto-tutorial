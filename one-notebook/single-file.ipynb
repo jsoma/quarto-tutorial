{
 "cells": [
  {
   "cell_type": "raw",
   "metadata": {},
   "source": [
    "---\n",
    "title: \"This title goes at the top of the page\"\n",
    "format:\n",
    "  html:\n",
    "    toc: true\n",
    "    embed-resources: true\n",
    "    linkcolor: red\n",
    "    theme: cosmo\n",
    "---"
   ]
  },
  {
   "cell_type": "markdown",
   "metadata": {},
   "source": [
    "## This is a smaller header\n",
    "\n",
    "With Markdown, you can make **bold text**, _italics_, and even [add links](https://docs.github.com/en/get-started/writing-on-github/getting-started-with-writing-and-formatting-on-github/basic-writing-and-formatting-syntax)."
   ]
  },
  {
   "cell_type": "markdown",
   "metadata": {},
   "source": [
    "Let's give it a title. Make sure you change it to **raw**.\n",
    "\n",
    "```yaml\n",
    "---\n",
    "title: \"This title goes at the top of the page\"\n",
    "---\n",
    "```"
   ]
  },
  {
   "cell_type": "markdown",
   "metadata": {},
   "source": [
    "Let's make it one file\n",
    "\n",
    "```yaml\n",
    "---\n",
    "title: \"This title goes at the top of the page\"\n",
    "format:\n",
    "  html:\n",
    "    embed-resources: true\n",
    "---\n",
    "```"
   ]
  },
  {
   "cell_type": "markdown",
   "metadata": {},
   "source": [
    "Let's add some features\n",
    "\n",
    "```yaml\n",
    "---\n",
    "title: \"This title goes at the top of the page\"\n",
    "format:\n",
    "  html:\n",
    "    toc: true\n",
    "    embed-resources: true\n",
    "---\n",
    "```"
   ]
  },
  {
   "cell_type": "markdown",
   "metadata": {},
   "source": [
    "Let's [change the style](https://quarto.org/docs/output-formats/html-themes.html).\n",
    "\n",
    "```yaml\n",
    "---\n",
    "title: \"This title goes at the top of the page\"\n",
    "format:\n",
    "  html:\n",
    "    toc: true\n",
    "    embed-resources: true\n",
    "    linkcolor: red\n",
    "---\n",
    "```"
   ]
  },
  {
   "cell_type": "markdown",
   "metadata": {},
   "source": [
    "## Exporting to a file with quarto"
   ]
  },
  {
   "cell_type": "markdown",
   "metadata": {},
   "source": [
    "Changing `echo` and `output` below make a real difference!\n",
    "\n",
    "This is the code in a Markdown block:\n",
    "\n",
    "```python\n",
    "#| echo: true\n",
    "#| output: false\n",
    "!quarto render single-file.ipynb --to html --output output.html\n",
    "```\n",
    "\n",
    "This is the actual code in a cell:"
   ]
  },
  {
   "cell_type": "code",
   "execution_count": 10,
   "metadata": {},
   "outputs": [
    {
     "name": "stdout",
     "output_type": "stream",
     "text": [
      "\u001b[1mpandoc --output output.html\u001b[22m\n",
      "  to: html\n",
      "  standalone: true\n",
      "  embed-resources: true\n",
      "  section-divs: true\n",
      "  html-math-method: mathjax\n",
      "  wrap: none\n",
      "  default-image-extension: png\n",
      "  toc: true\n",
      "  \n",
      "\u001b[1mmetadata\u001b[22m\n",
      "  document-css: false\n",
      "  link-citations: true\n",
      "  date-format: long\n",
      "  lang: en\n",
      "  title: This title goes at the top of the page\n",
      "  linkcolor: red\n",
      "  \n",
      "Output created: output.html\n",
      "\n"
     ]
    }
   ],
   "source": [
    "#| echo: true\n",
    "#| output: false\n",
    "!quarto render single-file.ipynb --to html --output output.html"
   ]
  },
  {
   "cell_type": "code",
   "execution_count": null,
   "metadata": {},
   "outputs": [],
   "source": []
  }
 ],
 "metadata": {
  "kernelspec": {
   "display_name": "Python 3 (ipykernel)",
   "language": "python",
   "name": "python3"
  },
  "language_info": {
   "codemirror_mode": {
    "name": "ipython",
    "version": 3
   },
   "file_extension": ".py",
   "mimetype": "text/x-python",
   "name": "python",
   "nbconvert_exporter": "python",
   "pygments_lexer": "ipython3",
   "version": "3.10.3"
  }
 },
 "nbformat": 4,
 "nbformat_minor": 2
}
